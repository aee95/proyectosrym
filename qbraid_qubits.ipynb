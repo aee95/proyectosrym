{
 "cells": [
  {
   "cell_type": "markdown",
   "id": "c32b90ce-3aac-4a9a-bfad-f87002acfbed",
   "metadata": {},
   "source": [
    "### Supported Devices\n",
    "| Provider | Name | qBraid ID| Status | Qubits |\n",
    "| --- | --- | --- | --- | ---- |\n",
    "AWS|Braket Default Simulator|aws_braket_default_sim|●| 25|\n",
    "AWS|Density Matrix Simulator|aws_dm_sim|●| 17|\n",
    "AWS|State Vector Simulator|aws_sv_sim|●| 34|\n",
    "AWS|Tensor Network Simulator|aws_tn_sim|●| 50| \n",
    "D-Wave|Advantage_system4|aws_dwave_advantage_system4|●| |\n",
    "D-Wave|DW_2000Q_6|aws_dwave_2000Q_6|●| 8*|\n",
    "Google|Bristlecone|google_bristlecone|○| |\n",
    "Google|Cirq Density Matrix Simulator|google_cirq_dm_sim|●| |\n",
    "Google|Cirq Sparse Simulator|google_cirq_sparse_sim|●| |\n",
    "Google|Foxtail|google_foxtail|○| |\n",
    "Google|Sycamore|google_sycamore|○| |\n",
    "Google|Sycamore23|google_sycamore23|○| |\n",
    "IBM|Aer Default Simulator|ibm_aer_default_sim|●| |\n",
    "IBM|Aer Pulse Simulator|ibm_aer_pulse_sim|●| |\n",
    "IBM|Aer QASM Simulator|ibm_aer_qasm_sim|●| |\n",
    "IBM|Aer State Vector Simulator|ibm_aer_sv_sim|●| |\n",
    "IBM|Aer Unitary Simulator|ibm_aer_unitary_sim|●| |\n",
    "IBM|BasicAer QASM Simulator|ibm_basicaer_qasm_sim|●| |\n",
    "IBM|BasicAer State Vector Simulator|ibm_basicaer_sv_sim|●| |\n",
    "IBM|BasicAer Unitary Simulator|ibm_basicaer_unitary_sim|●| |\n",
    "IBM|IBMQ Belem|ibm_q_belem|●| 5 |\n",
    "IBM|IBMQ Extended Stabilizer Simulator|ibm_q_ext_stabilizer_sim|●| |\n",
    "IBM|IBMQ Lima|ibm_q_lima|●| 5 |\n",
    "IBM|IBMQ Matrix Product State Simulator|ibm_q_mps_sim|●| |\n",
    "IBM|IBMQ Nairobi|ibm_q_nairobi|●| 7|\n",
    "IBM|IBMQ Oslo|ibm_q_oslo|●| 7|\n",
    "IBM|IBMQ QASM Simulator|ibm_q_qasm_sim|●| 32|\n",
    "IBM|IBMQ Quito|ibm_q_quito|●| 5 |\n",
    "IBM|IBMQ Santiago|ibm_q_manila|●| |\n",
    "IBM|IBMQ Stabilizer Simulator|ibm_q_stabilizer_sim|●| |\n",
    "IBM|IBMQ State Vector Simulator|ibm_q_sv_sim|●| |\n",
    "IonQ|IonQ Device|aws_ionq|●| |\n",
    "OQC|Lucy|aws_oqc_lucy|●| |\n",
    "Rigetti|Aspen-11|aws_rigetti_aspen_11|○| 40|\n",
    "Rigetti|Aspen-M-1|aws_rigetti_aspen_m_1|●| 80|\n",
    "Rigetti|Aspen-M-2|aws_rigetti_aspen_m_2|●| 80|\n",
    "Xanadu|Borealis|aws_xanadu_borealis|●| |\n"
   ]
  },
  {
   "cell_type": "code",
   "execution_count": null,
   "id": "df0cc505-cf1b-4c0e-b0cc-e3dbad1c8779",
   "metadata": {},
   "outputs": [],
   "source": []
  }
 ],
 "metadata": {
  "kernelspec": {
   "display_name": "Python 3 (ipykernel)",
   "language": "python",
   "name": "python3"
  },
  "language_info": {
   "codemirror_mode": {
    "name": "ipython",
    "version": 3
   },
   "file_extension": ".py",
   "mimetype": "text/x-python",
   "name": "python",
   "nbconvert_exporter": "python",
   "pygments_lexer": "ipython3",
   "version": "3.10.6"
  }
 },
 "nbformat": 4,
 "nbformat_minor": 5
}
